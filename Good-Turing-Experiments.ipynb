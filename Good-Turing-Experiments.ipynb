{
 "cells": [
  {
   "cell_type": "code",
   "execution_count": 1,
   "id": "9caabc82",
   "metadata": {},
   "outputs": [],
   "source": [
    "import numpy as np\n",
    "import matplotlib.pyplot as plt\n"
   ]
  },
  {
   "cell_type": "code",
   "execution_count": 37,
   "id": "9a49f5f3",
   "metadata": {},
   "outputs": [
    {
     "name": "stdout",
     "output_type": "stream",
     "text": [
      "[20015.88304071 19996.59156038 20038.65999637 19988.24598518\n",
      " 19993.7567748  19973.05560472 19996.70004721 19993.47688344\n",
      " 19998.50695962 20004.7513913  19962.64345605 19986.43873845\n",
      " 20053.02959233 20035.72903565 19989.66293527 20021.40951713\n",
      " 19981.15585235 20001.03029521 19996.96877177 20040.28585427\n",
      " 20020.31275629 19983.16468304 19997.6871645  19987.48301897\n",
      " 19986.01792296 20022.08470428 19989.59808446 19995.57290841\n",
      " 20020.97034293 20006.95687238 19993.28635746 20015.46968228\n",
      " 19984.69553583 20014.69279321 20015.21618669 19997.02580587\n",
      " 19980.83150537 20010.44848468 19988.70081197 19989.8148127\n",
      " 19998.56845172 19977.14920964 19954.94861332 20029.0378261\n",
      " 19986.82700799 19992.19799449 20006.85502579 19994.89916663\n",
      " 19950.53481306 19970.64888446] [  7157.27963899   9848.32038121 -32351.00103982  14554.26390662\n",
      "  -1863.11874675 -28907.22381867  26796.62770181   6017.30706416\n",
      "    611.99377251   5092.76791841  -8193.92461405  -7248.17615123\n",
      "  20002.60741272 -11848.23834961  -2424.73546588  68452.43919311\n",
      " -16758.14507169   9926.53587406  13133.63402303 -17414.23221586\n",
      "  23515.97103222   7429.8829364   14462.31217711  42235.25628629\n",
      " -29268.28229892 -12693.31638176    841.01380844 -14807.43203319\n",
      " -27157.2530061   59006.4218125  -28191.91167319  25098.69409172\n",
      "  41200.60824343  18122.23040653  -9999.60153279  -7023.48460584\n",
      "  -9660.13078849  28883.83407974    829.59069349   2611.51216298\n",
      "  19321.45793116 -11633.03052878  -4864.14981967  -4729.93069287\n",
      " -24365.74872931  -1353.98053537  15912.55497117  14374.59217311\n",
      "  -4271.27827078   7272.22957616]\n"
     ]
    }
   ],
   "source": [
    "mu = 20000\n",
    "sigma = 20\n",
    "num_samples_1 = 50\n",
    "num_samples_2 = 10000\n",
    "num_samples_3 = 100000\n",
    "\n",
    "s = np.random.normal(mu, sigma, num_samples_1)\n",
    "s_sum = s\n",
    "#for i in range(1,100):\n",
    "#    s_sum = 0.5* np.sum([s_sum,np.random.normal(mu, sigma, num_samples_1)],axis=0)\n",
    "s2 = np.random.normal(mu, sigma, num_samples_2)\n",
    "s3 = np.random.normal(mu, sigma, num_samples_3)\n",
    "\n",
    "print(s,s0)"
   ]
  },
  {
   "cell_type": "code",
   "execution_count": 38,
   "id": "2098509c",
   "metadata": {},
   "outputs": [
    {
     "data": {
      "text/plain": [
       "[<matplotlib.lines.Line2D at 0x7f9b13111400>]"
      ]
     },
     "execution_count": 38,
     "metadata": {},
     "output_type": "execute_result"
    },
    {
     "data": {
      "image/png": "[encoded data removed]",
      "text/plain": [
       "<Figure size 432x288 with 1 Axes>"
      ]
     },
     "metadata": {
      "needs_background": "light"
     },
     "output_type": "display_data"
    }
   ],
   "source": [
    "count, bins, ignored = plt.hist(s_sum, 30, density=True)\n",
    "dist_difference = 1/(sigma*np.sqrt(2*np.pi))*np.exp(-(bins - mu)**2 /(2 * sigma**2))\n",
    "plt.plot(bins, dist_difference, linewidth=2, color='r')"
   ]
  },
  {
   "cell_type": "code",
   "execution_count": 39,
   "id": "bd11c0d2",
   "metadata": {},
   "outputs": [
    {
     "name": "stdout",
     "output_type": "stream",
     "text": [
      "36\n",
      "{19951.0: 1, 19955.0: 1, 19963.0: 1, 19971.0: 1, 19973.0: 1, 19977.0: 1, 19981.0: 2, 19983.0: 1, 19985.0: 1, 19986.0: 2, 19987.0: 2, 19988.0: 1, 19989.0: 1, 19990.0: 3, 19992.0: 1, 19993.0: 2, 19994.0: 1, 19995.0: 1, 19996.0: 1, 19997.0: 4, 19998.0: 1, 19999.0: 2, 20001.0: 1, 20005.0: 1, 20007.0: 2, 20010.0: 1, 20015.0: 3, 20016.0: 1, 20020.0: 1, 20021.0: 2, 20022.0: 1, 20029.0: 1, 20036.0: 1, 20039.0: 1, 20040.0: 1, 20053.0: 1}\n"
     ]
    }
   ],
   "source": [
    "s_ints = np.round(np.sort(s_sum))\n",
    "s_uniq, s_count = np.unique(s_ints, return_counts=True)\n",
    "sample_group = {}\n",
    "\n",
    "# create dictionary of counts\n",
    "for x in range(0, len(s_uniq)):\n",
    "    if x in sample_group.keys():\n",
    "        sample_group[s_uniq[x]] += s_count[x]\n",
    "        \n",
    "    sample_group[s_uniq[x]] = s_count[x]\n",
    "\n",
    "print(len(s_uniq))\n",
    "print(sample_group)\n"
   ]
  },
  {
   "cell_type": "code",
   "execution_count": 40,
   "id": "a277bf28",
   "metadata": {},
   "outputs": [
    {
     "name": "stdout",
     "output_type": "stream",
     "text": [
      "0.02\n",
      "50\n",
      "0.04\n",
      "50\n",
      "0.06\n",
      "50\n",
      "0.08\n",
      "50\n"
     ]
    }
   ],
   "source": [
    "# empirical estimator\n",
    "sample_group_empirical = {}\n",
    "prev_max = 0\n",
    "for x in range(1, int(max(s_uniq))):\n",
    "       \n",
    "\n",
    "        if x not in sample_group.keys():\n",
    "            sample_group_empirical[x] = 0\n",
    "            continue\n",
    "\n",
    "\n",
    "        sample_group_empirical[x] = np.divide(sample_group[x],np.sum(s_count))\n",
    "         \n",
    "        if sample_group_empirical:\n",
    "            running_max = max(sample_group_empirical.values())\n",
    "            if running_max >0 and running_max > prev_max:         \n",
    "                print(running_max)\n",
    "                prev_max = running_max\n",
    "                print(np.sum(s_count))\n",
    "#print(sample_group_empirical)\n",
    "\n",
    "# laplace estimator\n",
    "#for x in range(1, len(s_count)):\n",
    "#        sample_group_laplace[s_uniq[x]] =s_count[x]/(max(s_uniq))\n",
    "\n",
    "#print(sample_group_laplace)\n",
    "\n",
    "# Good-Turing estimator\n",
    "#for x in range(1, len(s_count)):\n",
    "#        sample_group_gt[s_uniq[x]] = math.floor(s_count[x]/(max(s_uniq)+1))\n",
    "\n",
    "#print(sample_group_gt)\n"
   ]
  },
  {
   "cell_type": "code",
   "execution_count": 20,
   "id": "c1b9dbe0",
   "metadata": {},
   "outputs": [
    {
     "name": "stdout",
     "output_type": "stream",
     "text": [
      "0.0\n"
     ]
    }
   ],
   "source": [
    "print(np.divide(0,50))"
   ]
  },
  {
   "cell_type": "code",
   "execution_count": null,
   "id": "1ba91df6",
   "metadata": {},
   "outputs": [],
   "source": []
  }
 ],
 "metadata": {
  "kernelspec": {
   "display_name": "Python 3 (ipykernel)",
   "language": "python",
   "name": "python3"
  },
  "language_info": {
   "codemirror_mode": {
    "name": "ipython",
    "version": 3
   },
   "file_extension": ".py",
   "mimetype": "text/x-python",
   "name": "python",
   "nbconvert_exporter": "python",
   "pygments_lexer": "ipython3",
   "version": "3.8.12"
  }
 },
 "nbformat": 4,
 "nbformat_minor": 5
}
