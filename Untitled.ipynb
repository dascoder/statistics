{
 "cells": [
  {
   "cell_type": "code",
   "execution_count": 43,
   "id": "2eedbf42",
   "metadata": {},
   "outputs": [],
   "source": [
    "import math\n",
    "def sequentialDigits( low, high):\n",
    "        #naive test each number in range\n",
    "        sequence = []\n",
    "        p = math.floor(math.log(low,10))\n",
    "        q = math.floor(math.log(high,10))\n",
    "        print(high, low, p)\n",
    "\n",
    "        if (high <low) and (p >=9):\n",
    "            print(\"failed test\")\n",
    "            return []\n",
    "        \n",
    "       #print(start_digit,low,p)\n",
    "        while p <= q: \n",
    "\n",
    "            start_digit = math.floor(low / (10**p))\n",
    "            while start_digit <= 9-p:\n",
    "                i = 0\n",
    "                sequence_candidate =0\n",
    "                while ((i<= p) and (sequence_candidate < high)):\n",
    "                    sequence_candidate += (start_digit +i)*(10**(p-i))\n",
    "            \n",
    "                    if ((sequence_candidate >= low) and  (sequence_candidate <= high) and (i==p)):\n",
    "                        print(sequence_candidate,\"added\")\n",
    "                        sequence.append(sequence_candidate)\n",
    "                    i+=1\n",
    "                    print(sequence_candidate, i, start_digit)\n",
    "                start_digit +=1\n",
    "            p +=1\n",
    "        return sequence"
   ]
  },
  {
   "cell_type": "code",
   "execution_count": 44,
   "id": "bad8fc0c",
   "metadata": {},
   "outputs": [
    {
     "name": "stdout",
     "output_type": "stream",
     "text": [
      "300 100 2\n",
      "100 1 1\n",
      "120 2 1\n",
      "123 added\n",
      "123 3 1\n",
      "200 1 2\n",
      "230 2 2\n",
      "234 added\n",
      "234 3 2\n",
      "300 1 3\n",
      "400 1 4\n",
      "500 1 5\n",
      "600 1 6\n",
      "700 1 7\n",
      "[123, 234]\n"
     ]
    }
   ],
   "source": [
    "x=sequentialDigits(100, 300)\n",
    "print(x)"
   ]
  },
  {
   "cell_type": "code",
   "execution_count": 30,
   "id": "0c89362c",
   "metadata": {},
   "outputs": [
    {
     "data": {
      "text/plain": [
       "100"
      ]
     },
     "execution_count": 30,
     "metadata": {},
     "output_type": "execute_result"
    }
   ],
   "source": [
    "10**2"
   ]
  },
  {
   "cell_type": "code",
   "execution_count": 51,
   "id": "386134f7",
   "metadata": {},
   "outputs": [
    {
     "data": {
      "text/plain": [
       "1.4942432317407839"
      ]
     },
     "execution_count": 51,
     "metadata": {},
     "output_type": "execute_result"
    }
   ],
   "source": [
    "math.pow(math.log(7,2) - math.log(3,2),2)"
   ]
  },
  {
   "cell_type": "code",
   "execution_count": 59,
   "id": "94077247",
   "metadata": {},
   "outputs": [
    {
     "data": {
      "text/plain": [
       "1.4942432317407839"
      ]
     },
     "execution_count": 59,
     "metadata": {},
     "output_type": "execute_result"
    }
   ],
   "source": [
    "math.pow((math.log(7,2) - math.log(3,2)),2)\n"
   ]
  },
  {
   "cell_type": "code",
   "execution_count": 55,
   "id": "3d264899",
   "metadata": {},
   "outputs": [
    {
     "data": {
      "text/plain": [
       "1.5849625007211563"
      ]
     },
     "execution_count": 55,
     "metadata": {},
     "output_type": "execute_result"
    }
   ],
   "source": [
    "math.log(3,2)"
   ]
  },
  {
   "cell_type": "code",
   "execution_count": 66,
   "id": "bf494a76",
   "metadata": {},
   "outputs": [
    {
     "name": "stdout",
     "output_type": "stream",
     "text": [
      "7 3\n",
      "4 3\n",
      "1 3\n",
      "3\n"
     ]
    }
   ],
   "source": [
    "dividend =10\n",
    "divisor =3\n",
    "n_dividend = dividend\n",
    "for i in range(1,dividend):\n",
    "    n_dividend = n_dividend - divisor\n",
    "    print(n_dividend, divisor)\n",
    "    if n_dividend < divisor :\n",
    "        answer = i\n",
    "        break\n",
    "print(answer)"
   ]
  },
  {
   "cell_type": "code",
   "execution_count": 67,
   "id": "32680599",
   "metadata": {},
   "outputs": [
    {
     "data": {
      "text/plain": [
       "False"
      ]
     },
     "execution_count": 67,
     "metadata": {},
     "output_type": "execute_result"
    }
   ],
   "source": [
    "1 == -1"
   ]
  },
  {
   "cell_type": "code",
   "execution_count": 88,
   "id": "30ff2e35",
   "metadata": {},
   "outputs": [],
   "source": [
    "    def divide( dividend, divisor) :\n",
    "        '''\n",
    "        no *, / or %\n",
    "        use repeated subtraction.\n",
    "           \n",
    "        '''\n",
    "        change_sign = False\n",
    "        answer = None\n",
    "        \n",
    "        if ((dividend > 0) and (divisor <0)) or ((dividend <0) and (divisor >0)):\n",
    "            change_sign = True\n",
    "                    \n",
    "        if dividend == 0:\n",
    "            answer = 0\n",
    "        \n",
    "        if dividend == divisor or dividend == -divisor:\n",
    "            answer = 1\n",
    "            \n",
    "        if dividend < 0:\n",
    "            dividend = 0 - dividend\n",
    "            \n",
    "        if divisor < 0:\n",
    "            divisor = 0 - divisor\n",
    "\n",
    "        if answer == None:\n",
    "            n_dividend = dividend\n",
    "            for i in range(1,dividend):\n",
    "                n_dividend = n_dividend - divisor\n",
    "                if n_dividend < divisor:\n",
    "                    answer = i\n",
    "                    break\n",
    "                        \n",
    "        if change_sign:\n",
    "            answer = 0 - answer\n",
    "\n",
    "            \n",
    "        return answer"
   ]
  },
  {
   "cell_type": "code",
   "execution_count": 89,
   "id": "eca2665c",
   "metadata": {},
   "outputs": [
    {
     "data": {
      "text/plain": [
       "-1"
      ]
     },
     "execution_count": 89,
     "metadata": {},
     "output_type": "execute_result"
    }
   ],
   "source": [
    "divide(-1,1)"
   ]
  },
  {
   "cell_type": "code",
   "execution_count": 90,
   "id": "23a4ca2f",
   "metadata": {},
   "outputs": [],
   "source": [
    "import math\n",
    "class Solution:\n",
    "    def divide(self, dividend: int, divisor: int) -> int:\n",
    "        '''\n",
    "        no *, / or %\n",
    "        use repeated subtraction.\n",
    "           \n",
    "        '''\n",
    "        change_sign = False\n",
    "        answer = None\n",
    "        if ((dividend > 0) and (divisor <0)) or ((dividend <0) and (divisor >0)):\n",
    "            change_sign = True\n",
    "            divisor = 0 - divisor\n",
    "              \n",
    "        if dividend == 0 or divisor > dividend:\n",
    "            answer = 0\n",
    "        \n",
    "        if dividend == divisor:\n",
    "            answer = 1\n",
    "            \n",
    "        if divisor == 1 or divisor == -1:\n",
    "            answer = dividend\n",
    "\n",
    "        \n",
    "        n_dividend = dividend\n",
    "        if answer == None:\n",
    "            for i in range(1,dividend):\n",
    "                n_dividend = n_dividend - divisor\n",
    "                if n_dividend < divisor:\n",
    "                    answer = i\n",
    "                    break\n",
    "                        \n",
    "        if change_sign:\n",
    "            answer = 0 - answer\n",
    "\n",
    "            \n",
    "        return answer\n",
    "        "
   ]
  },
  {
   "cell_type": "code",
   "execution_count": 118,
   "id": "f2276528",
   "metadata": {},
   "outputs": [],
   "source": [
    "def myAtoi(s):\n",
    "    sign_positive = 1 \n",
    "    num_candidate = s.strip()\n",
    "    result = 0\n",
    "                #ignore empty strings\n",
    "    if not num_candidate:\n",
    "        return result\n",
    "        \n",
    "    if ('-' in num_candidate) and (num_candidate.index('-') == 0 ):\n",
    "        sign_positive = 0\n",
    "        num_candidate = num_candidate.split('-')[1]\n",
    "                        \n",
    "            \n",
    "    for c in num_candidate:\n",
    "        try:\n",
    "            sum_candidate = result*10 + int(c) \n",
    "            if sum_candidate > 2**31 - sign_positive:\n",
    "                result = 2**31 - sign_positive\n",
    "                break\n",
    "            result = sum_candidate\n",
    "        except:\n",
    "            pass\n",
    "            \n",
    "    if sign_positive == 0:\n",
    "        result = -result\n",
    "                \n",
    "    return result\n",
    "            \n",
    "            \n",
    "            "
   ]
  },
  {
   "cell_type": "code",
   "execution_count": 119,
   "id": "17159a20",
   "metadata": {},
   "outputs": [
    {
     "name": "stdout",
     "output_type": "stream",
     "text": [
      "4 c\n",
      "\n",
      "42 num\n",
      "\n",
      "0 result\n",
      "\n",
      "4 sum\n",
      "2 c\n",
      "\n",
      "42 num\n",
      "\n",
      "4 result\n",
      "\n",
      "42 sum\n"
     ]
    },
    {
     "data": {
      "text/plain": [
       "-42"
      ]
     },
     "execution_count": 119,
     "metadata": {},
     "output_type": "execute_result"
    }
   ],
   "source": [
    "myAtoi('-42')"
   ]
  },
  {
   "cell_type": "code",
   "execution_count": null,
   "id": "09bcaf74",
   "metadata": {},
   "outputs": [],
   "source": []
  }
 ],
 "metadata": {
  "kernelspec": {
   "display_name": "Python 3",
   "language": "python",
   "name": "python3"
  },
  "language_info": {
   "codemirror_mode": {
    "name": "ipython",
    "version": 3
   },
   "file_extension": ".py",
   "mimetype": "text/x-python",
   "name": "python",
   "nbconvert_exporter": "python",
   "pygments_lexer": "ipython3",
   "version": "3.8.8"
  }
 },
 "nbformat": 4,
 "nbformat_minor": 5
}
