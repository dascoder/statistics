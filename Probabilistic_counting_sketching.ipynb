{
 "cells": [
  {
   "cell_type": "code",
   "execution_count": 1,
   "id": "5f5590c8",
   "metadata": {},
   "outputs": [],
   "source": [
    "# approximate counting\n",
    "import numpy as np\n",
    "import math\n",
    "\n",
    "# probabilistic counting\n",
    "def approx_count_naive(count, x=1, p=0.99):\n",
    "    w =0\n",
    "    for i in range(1,count+1):\n",
    "        b =np.random.binomial(x,p)\n",
    "        d= b == x\n",
    "        x+= d\n",
    "        \n",
    "        if i > 2**w:\n",
    "            print('current count ', i)\n",
    "            w +=1\n",
    "    print('result ', x, 100*((1.01)**x -1))\n",
    "    \n",
    "# turnstile model\n",
    "# queries: distinct_elts, pth_moment, point_query, frequent\n",
    "\n",
    "def approx_max_elements():\n",
    "    pass\n",
    "    \n",
    "    \n",
    "def approx_count_perf(count, x=1, p=0.99):\n",
    "    max_x = math.ceil(np.log(count/100) / np.log(1.01))\n",
    "    # create np array of \n",
    "    return max_x\n",
    "    \n",
    "    "
   ]
  },
  {
   "cell_type": "code",
   "execution_count": 3,
   "id": "580892f3",
   "metadata": {},
   "outputs": [
    {
     "name": "stdout",
     "output_type": "stream",
     "text": [
      "current count  2\n",
      "current count  3\n",
      "current count  5\n",
      "current count  9\n",
      "current count  17\n",
      "current count  33\n",
      "current count  65\n",
      "current count  129\n",
      "current count  257\n",
      "current count  513\n",
      "current count  1025\n",
      "current count  2049\n",
      "current count  4097\n",
      "current count  8193\n",
      "current count  16385\n",
      "current count  32769\n",
      "current count  65537\n",
      "current count  131073\n",
      "current count  262145\n",
      "current count  524289\n",
      "current count  1048577\n",
      "current count  2097153\n",
      "current count  4194305\n",
      "current count  8388609\n",
      "current count  16777217\n",
      "current count  33554433\n",
      "current count  67108865\n",
      "current count  134217729\n",
      "current count  268435457\n",
      "current count  536870913\n",
      "1621 1011455682.638612\n",
      "test max_x None\n"
     ]
    }
   ],
   "source": [
    "print('test max_x', approx_count_naive(2**30))\n"
   ]
  },
  {
   "cell_type": "code",
   "execution_count": null,
   "id": "9eff2727",
   "metadata": {},
   "outputs": [
    {
     "name": "stdout",
     "output_type": "stream",
     "text": [
      "current count  2\n",
      "current count  3\n",
      "current count  5\n",
      "current count  9\n",
      "current count  17\n",
      "current count  33\n",
      "current count  65\n",
      "current count  129\n",
      "current count  257\n",
      "current count  513\n",
      "current count  1025\n",
      "current count  2049\n",
      "current count  4097\n",
      "current count  8193\n",
      "current count  16385\n",
      "current count  32769\n",
      "current count  65537\n",
      "current count  131073\n",
      "current count  262145\n",
      "current count  524289\n",
      "current count  1048577\n",
      "current count  2097153\n",
      "current count  4194305\n",
      "current count  8388609\n",
      "current count  16777217\n",
      "current count  33554433\n",
      "current count  67108865\n",
      "current count  134217729\n",
      "current count  268435457\n",
      "current count  536870913\n",
      "current count  1073741825\n",
      "current count  2147483649\n"
     ]
    }
   ],
   "source": [
    "print('test result', approx_count_naive(2**35))\n"
   ]
  },
  {
   "cell_type": "code",
   "execution_count": null,
   "id": "c2e70166",
   "metadata": {},
   "outputs": [],
   "source": []
  }
 ],
 "metadata": {
  "kernelspec": {
   "display_name": "Python 3 (ipykernel)",
   "language": "python",
   "name": "python3"
  },
  "language_info": {
   "codemirror_mode": {
    "name": "ipython",
    "version": 3
   },
   "file_extension": ".py",
   "mimetype": "text/x-python",
   "name": "python",
   "nbconvert_exporter": "python",
   "pygments_lexer": "ipython3",
   "version": "3.8.12"
  }
 },
 "nbformat": 4,
 "nbformat_minor": 5
}
